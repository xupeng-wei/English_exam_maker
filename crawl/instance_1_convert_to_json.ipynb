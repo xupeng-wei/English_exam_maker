{
 "cells": [
  {
   "cell_type": "code",
   "execution_count": null,
   "metadata": {},
   "outputs": [],
   "source": [
    "import os\n",
    "import subprocess\n",
    "import fitz\n",
    "import docx\n",
    "import json\n",
    "from tqdm import tqdm\n",
    "import re\n",
    "import json"
   ]
  },
  {
   "cell_type": "code",
   "execution_count": null,
   "metadata": {},
   "outputs": [],
   "source": [
    "paths = ['trjlseng/cyst', 'trjlseng/cest', 'trjlseng/csst']"
   ]
  },
  {
   "cell_type": "code",
   "execution_count": null,
   "metadata": {},
   "outputs": [],
   "source": [
    "def extract_text_from_docx(file_path):\n",
    "    \"\"\"Extract text from a .docx file\"\"\"\n",
    "    doc = docx.Document(file_path)\n",
    "    return \"\\n\".join([para.text for para in doc.paragraphs])\n",
    "\n",
    "def convert_doc_to_docx(input_path):\n",
    "    if not os.path.exists(input_path):\n",
    "        raise FileNotFoundError(f\"File {input_path} not exist\")\n",
    "    output_dir = os.path.dirname(os.path.abspath(input_path))\n",
    "    libreoffice_path = '/Applications/LibreOffice.app/Contents/MacOS/soffice'\n",
    "    \n",
    "    try:\n",
    "        subprocess.run([\n",
    "            libreoffice_path,\n",
    "            '--headless',\n",
    "            '--convert-to', 'docx',\n",
    "            input_path,\n",
    "            '--outdir', str(output_dir)\n",
    "        ], check=True)\n",
    "        # print(f\"got {output_dir}\")\n",
    "    except subprocess.CalledProcessError as e:\n",
    "        print(f\"Failed: {e}\")\n",
    "\n",
    "def extract_text_from_pdf(file_path):\n",
    "    \"\"\"Extract text from a .pdf file\"\"\"\n",
    "    doc = fitz.open(file_path)\n",
    "    return \"\\n\".join([page.get_text(\"text\") for page in doc])\n"
   ]
  },
  {
   "cell_type": "code",
   "execution_count": null,
   "metadata": {},
   "outputs": [],
   "source": [
    "for path in paths:\n",
    "    doc_path = os.path.join(path, \"unzip\")\n",
    "    for file in (pbar := tqdm(os.listdir(doc_path))):\n",
    "        pbar.set_description(f\"convert doc: {path}:{file}\")\n",
    "        if not file:\n",
    "            continue\n",
    "        if os.path.isdir(file):\n",
    "            continue\n",
    "        ext = os.path.splitext(file)[1].lower()\n",
    "        if ext == \".doc\":\n",
    "            docx_path = convert_doc_to_docx(os.path.join(doc_path, file))\n",
    "\n",
    "converted_txt = {}\n",
    "for path in paths:\n",
    "    converted_txt[path] = []\n",
    "    doc_path = os.path.join(path, \"unzip\")\n",
    "    for file in (pbar := tqdm(os.listdir(doc_path))):\n",
    "        pbar.set_description(f\"extract txt: {path}:{file}\")\n",
    "        if not file:\n",
    "            continue\n",
    "        if os.path.isdir(os.path.join(doc_path, file)):\n",
    "            continue\n",
    "        ext = os.path.splitext(file)[1].lower()\n",
    "        name = os.path.splitext(file)[0]\n",
    "        if ext == \".docx\":\n",
    "            converted_txt[path].append((name, extract_text_from_docx(os.path.join(doc_path, file))))\n",
    "        elif ext == \".pdf\":\n",
    "            converted_txt[path].append((name, extract_text_from_pdf(os.path.join(doc_path, file))))\n"
   ]
  },
  {
   "cell_type": "code",
   "execution_count": null,
   "metadata": {},
   "outputs": [],
   "source": [
    "# os.mkdir(\"trjlseng_parsed\")\n",
    "\n",
    "categories = [\"cyst\", \"cest\", \"csst\"]\n",
    "\n",
    "for cat in categories:\n",
    "    original_path = \"trjlseng\" + \"/\" + cat\n",
    "    new_path = \"trjlseng_parsed\" + \"/\" + cat\n",
    "    # os.mkdir(new_path)\n",
    "    for name, content in converted_txt[original_path]:\n",
    "        with open(os.path.join(new_path, name + \".json\"), \"w\") as f:\n",
    "            data = {\"name\": name, \"content\": content}\n",
    "            json.dump(data, f, indent=4, ensure_ascii=False)\n"
   ]
  },
  {
   "cell_type": "code",
   "execution_count": null,
   "metadata": {},
   "outputs": [],
   "source": []
  }
 ],
 "metadata": {
  "kernelspec": {
   "display_name": "eecs553",
   "language": "python",
   "name": "python3"
  },
  "language_info": {
   "codemirror_mode": {
    "name": "ipython",
    "version": 3
   },
   "file_extension": ".py",
   "mimetype": "text/x-python",
   "name": "python",
   "nbconvert_exporter": "python",
   "pygments_lexer": "ipython3",
   "version": "3.10.4"
  }
 },
 "nbformat": 4,
 "nbformat_minor": 2
}
